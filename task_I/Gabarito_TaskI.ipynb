{
  "nbformat": 4,
  "nbformat_minor": 0,
  "metadata": {
    "kernelspec": {
      "display_name": "Python 3 (ipykernel)",
      "language": "python",
      "name": "python3"
    },
    "language_info": {
      "codemirror_mode": {
        "name": "ipython",
        "version": 3
      },
      "file_extension": ".py",
      "mimetype": "text/x-python",
      "name": "python",
      "nbconvert_exporter": "python",
      "pygments_lexer": "ipython3",
      "version": "3.7.11"
    },
    "colab": {
      "name": "Cópia de Template_ExploratoryDataAnalysis.ipynb",
      "provenance": []
    }
  },
  "cells": [
    {
      "cell_type": "markdown",
      "metadata": {
        "id": "vJqzfhzGreFV"
      },
      "source": [
        "# Como era esperado que as práticas primárias do XP fossem aplicadas? \n",
        "\n",
        "Sabemos que o tempo era muito curto para concepção e desenvolvimento de 5 RQs, mas o uso de algumas práticas primárias ajudaria a otimizar o tempo da aula e maximizar o valor do artefato entregue:\n",
        "\n",
        "- Era importante a dupla reservar alguns minutos no início da aula para planejar o trabalho, aplicando assim o Jogo do Planejamento. Algumas decisões que poderiam ser tomadas nesse momento: considerando o tempo da aula e a natureza da tarefa, deveriam implementar algum teste? Considerando a experiência dos membros da equipe com Python, quem deveria ser o piloto na programação em pares?\n",
        "\n",
        "- Escrever juntos as RQs considerando a complexidade no desenvolvimento e o conhecimento/experiência dos membros da dupla para executar. Essa ação abrange a Propriedade Coletiva e Projeto Simples, por exemplo.\n",
        "\n",
        "- Se aproveitar da presença da cliente para definir quais eram as RQs mais relevantes e, assim, priorizar o trabalho de acordo com o tempo da aula. Isso garantiria que, caso a dupla não tivesse tempo de entregar as 5 RQs, ao menos entregariam as mais importantes.\n",
        "\n",
        "- Ler todo o material sobre o projeto para garantir que a dupla conseguiu entender a proposta e, caso necessário, conversar com a cliente para tirar dúvidas sobre o objetivo do projeto e tarefa. Isso garantiria por exemplo que vocês propusessem RQs mais simples e, ainda assim, relevantes para o contexto do projeto. De quebra ainda aplicariam 3 práticas: Cliente Acessível, Projeto Simples e Propriedade Coletiva.\n",
        "\n",
        "Caso tenham alguma dúvida sobre o uso das práticas primárias, consultem os [Slides de Apresentação](https://docs.google.com/presentation/d/1Lfi8uzks0oQfzP5R-oshptx7a8_x9LGgjpBfxLY7GVM/edit?usp=sharing) e fiquem à vontade para nos procurar."
      ]
    },
    {
      "cell_type": "markdown",
      "metadata": {
        "collapsed": true,
        "id": "YNUUPLVOkKtl"
      },
      "source": [
        "# Área de imports"
      ]
    },
    {
      "cell_type": "code",
      "metadata": {
        "id": "Qtebh3xutC-X"
      },
      "source": [
        "! pip install jellyfish texthero"
      ],
      "execution_count": null,
      "outputs": []
    },
    {
      "cell_type": "code",
      "metadata": {
        "id": "_QVjrV3lkKto"
      },
      "source": [
        "import re\n",
        "import jellyfish\n",
        "import pandas as pd\n",
        "import seaborn as sns\n",
        "import texthero as hero\n",
        "import matplotlib.pyplot as plt"
      ],
      "execution_count": 2,
      "outputs": []
    },
    {
      "cell_type": "markdown",
      "metadata": {
        "id": "kHeGtxe4kKtp"
      },
      "source": [
        "# Carregamento dos dados"
      ]
    },
    {
      "cell_type": "code",
      "metadata": {
        "id": "L7zORU66uq0C"
      },
      "source": [
        "df = pd.read_csv('https://raw.githubusercontent.com/LucasRotsen/tcc_case_study_tasks/main/data/task_sample.csv', sep='|', names=['title', 'body', 'label'])"
      ],
      "execution_count": 3,
      "outputs": []
    },
    {
      "cell_type": "markdown",
      "metadata": {
        "id": "LTvmVxVHkKtq"
      },
      "source": [
        "# Análise exploratória dos dados\n",
        "\n",
        "<hr>\n",
        "\n",
        "## Questões de pesquisa levantadas\n",
        "> - **RQ 01.** Com que frequência a palavra BUG aparece no título de um BUG?\n",
        "> - **RQ 02.** Com que frequência imagens aparecem no conjunto de dados, e qual a relação delas com as categorias BUG e NÃO-BUG?\n",
        "> - **RQ 03.** Qual é a mediana da quantidade de palavras do corpo de BUG e NÃO-BUG?\n",
        "> - **RQ 04.** Quais são as 10 palavras mais frequentes em BUGs?\n",
        "> - **RQ 05.** Qual é a mediana da similaridade entre os títulos de BUGs e NÃO-BUGS?"
      ]
    },
    {
      "cell_type": "markdown",
      "metadata": {
        "id": "QmOK1wFlqFt2"
      },
      "source": [
        "#### RQ 01. Com que frequência a palavra BUG aparece no título de um BUG?"
      ]
    },
    {
      "cell_type": "code",
      "metadata": {
        "id": "ixlNmJbbkKtq"
      },
      "source": [
        "bugs_df = df[df['title'].str.contains('bug|bugs', flags=re.IGNORECASE, regex=True)]\n",
        "\n",
        "no_rows_with_bug_in_title = bugs_df.shape[0]\n",
        "no_rows_with_bug_in_title_n_label = bugs_df[bugs_df['label'] == 'Bug'].shape[0]\n",
        "\n",
        "final_percentage = round((no_rows_with_bug_in_title_n_label * 100) / no_rows_with_bug_in_title, 1)"
      ],
      "execution_count": 4,
      "outputs": []
    },
    {
      "cell_type": "code",
      "metadata": {
        "id": "U92ZrnRxy1ub",
        "colab": {
          "base_uri": "https://localhost:8080/"
        },
        "outputId": "cf1138f3-f31d-4e83-8d84-380951a45488"
      },
      "source": [
        "print(f'{final_percentage}% das Issues que possuem \"Bug\" ou \"Bugs\" no título são, de fato, Bugs!')"
      ],
      "execution_count": 5,
      "outputs": [
        {
          "output_type": "stream",
          "name": "stdout",
          "text": [
            "85.5% das Issues que possuem \"Bug\" ou \"Bugs\" no título são, de fato, Bugs!\n"
          ]
        }
      ]
    },
    {
      "cell_type": "markdown",
      "metadata": {
        "id": "FDmLRZ00qN8d"
      },
      "source": [
        "#### RQ 02. Com que frequência imagens aparecem no corpo das issues? Qual a relação delas com os rótulos existentes?"
      ]
    },
    {
      "cell_type": "code",
      "metadata": {
        "id": "9pMozzRF3Tg9"
      },
      "source": [
        "img_df = df[df['body'].str.contains('<img')]\n",
        "\n",
        "no_rows_with_img_in_body = bugs_df.shape[0]\n",
        "no_rows_with_img_in_body_n_label_bug = img_df[img_df['label'] == 'Bug'].shape[0]\n",
        "no_rows_with_img_in_body_n_label_feature = img_df[img_df['label'] == 'Feature'].shape[0]\n",
        "no_rows_with_img_in_body_n_label_question = img_df[img_df['label'] == 'Question'].shape[0]\n",
        "\n",
        "final_percentage_bug = round((no_rows_with_img_in_body_n_label_bug * 100) / no_rows_with_img_in_body, 1)\n",
        "final_percentage_feature = round((no_rows_with_img_in_body_n_label_feature * 100) / no_rows_with_img_in_body, 1)\n",
        "final_percentage_question = round((no_rows_with_img_in_body_n_label_question * 100) / no_rows_with_img_in_body, 1)"
      ],
      "execution_count": 6,
      "outputs": []
    },
    {
      "cell_type": "code",
      "metadata": {
        "id": "YtTME8Rd6KrH",
        "colab": {
          "base_uri": "https://localhost:8080/",
          "height": 368
        },
        "outputId": "5fb6b532-b9dd-4093-804b-c03d1bbdca85"
      },
      "source": [
        "sns.barplot(['Question', 'Feature', 'Bug'], [final_percentage_question, final_percentage_feature, final_percentage_bug])\n",
        "plt.title('(%) de presença de imagens no corpo por classe')\n",
        "plt.show()"
      ],
      "execution_count": 7,
      "outputs": [
        {
          "output_type": "stream",
          "name": "stderr",
          "text": [
            "/usr/local/lib/python3.7/dist-packages/seaborn/_decorators.py:43: FutureWarning:\n",
            "\n",
            "Pass the following variables as keyword args: x, y. From version 0.12, the only valid positional argument will be `data`, and passing other arguments without an explicit keyword will result in an error or misinterpretation.\n",
            "\n"
          ]
        },
        {
          "output_type": "display_data",
          "data": {
            "image/png": "[encoded data removed]",
            "text/plain": [
              "<Figure size 432x288 with 1 Axes>"
            ]
          },
          "metadata": {
            "needs_background": "light"
          }
        }
      ]
    },
    {
      "cell_type": "code",
      "metadata": {
        "id": "RKmOxKVx7GFg",
        "colab": {
          "base_uri": "https://localhost:8080/"
        },
        "outputId": "d2c2cd15-ec58-49f7-f9dc-fe2b694f4d49"
      },
      "source": [
        "print(f'{final_percentage_bug}% das Issues que possuem imagens no corpo são Bugs!\\n')\n",
        "print(f'{final_percentage_feature}% das Issues que possuem imagens no corpo são Features!\\n')\n",
        "print(f'{final_percentage_question}% das Issues que possuem imagens no corpo são Questions!\\n')"
      ],
      "execution_count": 8,
      "outputs": [
        {
          "output_type": "stream",
          "name": "stdout",
          "text": [
            "49.0% das Issues que possuem imagens no corpo são Bugs!\n",
            "\n",
            "20.7% das Issues que possuem imagens no corpo são Features!\n",
            "\n",
            "3.9% das Issues que possuem imagens no corpo são Questions!\n",
            "\n"
          ]
        }
      ]
    },
    {
      "cell_type": "markdown",
      "metadata": {
        "id": "iZXMRb4Kqf1B"
      },
      "source": [
        "#### RQ 03. Qual é a mediana da quantidade de palavras do corpo de BUG e NÃO-BUG?"
      ]
    },
    {
      "cell_type": "code",
      "metadata": {
        "id": "nwuL1M4r5Drg"
      },
      "source": [
        "df['message-size'] = df['body'].apply(lambda x: len(x))"
      ],
      "execution_count": 9,
      "outputs": []
    },
    {
      "cell_type": "code",
      "metadata": {
        "id": "76WZKg26qgGA"
      },
      "source": [
        "body_size_median_bugs = df.groupby('label')['message-size'].median().sort_values()"
      ],
      "execution_count": 10,
      "outputs": []
    },
    {
      "cell_type": "code",
      "metadata": {
        "id": "OwW6UCGk5lhJ",
        "colab": {
          "base_uri": "https://localhost:8080/",
          "height": 331
        },
        "outputId": "d557be38-585d-4f1d-efe9-31ed45611215"
      },
      "source": [
        "body_size_median_bugs.plot(kind='bar')"
      ],
      "execution_count": 11,
      "outputs": [
        {
          "output_type": "execute_result",
          "data": {
            "text/plain": [
              "<matplotlib.axes._subplots.AxesSubplot at 0x7f353b558dd0>"
            ]
          },
          "metadata": {},
          "execution_count": 11
        },
        {
          "output_type": "display_data",
          "data": {
            "image/png": "[encoded data removed]",
            "text/plain": [
              "<Figure size 432x288 with 1 Axes>"
            ]
          },
          "metadata": {
            "needs_background": "light"
          }
        }
      ]
    },
    {
      "cell_type": "markdown",
      "metadata": {
        "id": "vgDGbPlGqglt"
      },
      "source": [
        "#### RQ 04. Quais são as 10 palavras mais frequentes em BUGs?"
      ]
    },
    {
      "cell_type": "code",
      "metadata": {
        "id": "3NJLRdHfqgva"
      },
      "source": [
        "# Função para remover \"stopwords\", dígitos, e pontuação\n",
        "\n",
        "def text_cleansing(df: pd.DataFrame, column_name: str):\n",
        "    custom_pipeline = [hero.preprocessing.lowercase,\n",
        "                       hero.preprocessing.remove_digits,\n",
        "                       hero.preprocessing.remove_punctuation,\n",
        "                       hero.remove_stopwords,\n",
        "                       hero.remove_whitespace]\n",
        "\n",
        "    return hero.clean(df[column_name], custom_pipeline)"
      ],
      "execution_count": 12,
      "outputs": []
    },
    {
      "cell_type": "code",
      "metadata": {
        "id": "T6czQjW_hxNC"
      },
      "source": [
        "# Juntando as duas colunas de texto em uma só\n",
        "\n",
        "df['text'] = df['title'] + ' ' + df['body']"
      ],
      "execution_count": 13,
      "outputs": []
    },
    {
      "cell_type": "code",
      "metadata": {
        "id": "RJxLKDgLhhwQ"
      },
      "source": [
        "# Fazendo a limpeza do texto\n",
        "\n",
        "df['text'] = text_cleansing(df, 'text')"
      ],
      "execution_count": 14,
      "outputs": []
    },
    {
      "cell_type": "code",
      "metadata": {
        "id": "5T4t1czYi2Kj"
      },
      "source": [
        "# função para selecionar as `n` palavras mais frequentes\n",
        "\n",
        "def collect_n_most_frequent_words(df: pd.DataFrame, column: str, n: int):\n",
        "    if n < 0: return {}\n",
        "    return pd.Series(' '.join(df[column]).lower().split()).value_counts()[:n].to_dict()"
      ],
      "execution_count": 15,
      "outputs": []
    },
    {
      "cell_type": "code",
      "metadata": {
        "id": "P4aSDvgQi7I1"
      },
      "source": [
        "bugs_df = df[df['text'].str.contains('bug|bugs', flags=re.IGNORECASE, regex=True)]\n",
        "top_10 = collect_n_most_frequent_words(bugs_df, 'text', 10)"
      ],
      "execution_count": 16,
      "outputs": []
    },
    {
      "cell_type": "code",
      "metadata": {
        "colab": {
          "base_uri": "https://localhost:8080/",
          "height": 522
        },
        "id": "NMdNmq6xjeKv",
        "outputId": "d36eb2ae-f096-4b48-a194-f049540a35a9"
      },
      "source": [
        "# plotando a informação em um gráfico\n",
        "\n",
        "plt.figure(figsize=(12,6))\n",
        "\n",
        "chart = sns.barplot(\n",
        "    list(top_10.keys()), \n",
        "    list(top_10.values())\n",
        ").set_title('Top #10 palavras do dataset para a categoria BUG')\n",
        "\n",
        "plt.xticks(\n",
        "    rotation=45, \n",
        "    horizontalalignment='right',\n",
        "    fontweight='light',\n",
        "    fontsize='x-large'  \n",
        ")\n",
        "\n",
        "plt.show()"
      ],
      "execution_count": 17,
      "outputs": [
        {
          "output_type": "stream",
          "name": "stderr",
          "text": [
            "/usr/local/lib/python3.7/dist-packages/seaborn/_decorators.py:43: FutureWarning:\n",
            "\n",
            "Pass the following variables as keyword args: x, y. From version 0.12, the only valid positional argument will be `data`, and passing other arguments without an explicit keyword will result in an error or misinterpretation.\n",
            "\n"
          ]
        },
        {
          "output_type": "display_data",
          "data": {
            "image/png": "[encoded data removed]",
            "text/plain": [
              "<Figure size 864x432 with 1 Axes>"
            ]
          },
          "metadata": {
            "needs_background": "light"
          }
        }
      ]
    },
    {
      "cell_type": "markdown",
      "metadata": {
        "id": "mHonQfxIqhAk"
      },
      "source": [
        "#### RQ 05. Qual é a mediana da similaridade entre os títulos de BUGs e NÃO-BUGS?"
      ]
    },
    {
      "cell_type": "code",
      "metadata": {
        "id": "SjlFNfQ6kgWp"
      },
      "source": [
        "# Separando o dataframe em dois: bugs e não bugs\n",
        "\n",
        "bug_df_titles = df[df['label'] == 'Bug']['title'].reset_index(drop=True)\n",
        "non_bug_df_titles = df[df['label'] != 'Bug']['title'].reset_index(drop=True)"
      ],
      "execution_count": 18,
      "outputs": []
    },
    {
      "cell_type": "code",
      "metadata": {
        "id": "Mu7f-viMkn_a"
      },
      "source": [
        "# Construindo um dataframe para comparação dos títulos\n",
        "\n",
        "compare_df = pd.concat([bug_df_titles,non_bug_df_titles], axis=1, ignore_index=True)\n",
        "compare_df.columns = ['bug', 'non-bug']"
      ],
      "execution_count": 19,
      "outputs": []
    },
    {
      "cell_type": "code",
      "metadata": {
        "id": "t19zclvYoUA9"
      },
      "source": [
        "# Função para calcular a similaridade entre duas strings\n",
        "\n",
        "def calculate_similarity(str_1, str_2):\n",
        "  return jellyfish.levenshtein_distance(str_1, str_2)"
      ],
      "execution_count": 20,
      "outputs": []
    },
    {
      "cell_type": "code",
      "metadata": {
        "id": "ag2Lmu7RqhKh"
      },
      "source": [
        "# Calculando a mediana de similaridade entre os títulos\n",
        "# Na Distância Levenshtein, similaridade é igual ao número de edições necessárias para tornar as duas strings idênticas\n",
        "\n",
        "compare_df['similarity'] = compare_df.head(10).apply(lambda x: calculate_similarity(x['bug'], x['non-bug']), axis=1)\n",
        "\n",
        "similarity_median = compare_df.similarity.median()"
      ],
      "execution_count": 21,
      "outputs": []
    },
    {
      "cell_type": "code",
      "metadata": {
        "colab": {
          "base_uri": "https://localhost:8080/"
        },
        "id": "qySiYBIDqlBF",
        "outputId": "282ba255-868c-4b8c-8eda-734741ea811d"
      },
      "source": [
        "# Imprimindo o resultado\n",
        "\n",
        "print(f'A mediana da similaridade entre os títulos de Bugs e Não Bugs é de: {similarity_median}')"
      ],
      "execution_count": 22,
      "outputs": [
        {
          "output_type": "stream",
          "name": "stdout",
          "text": [
            "A mediana da similaridade entre os títulos de Bugs e Não Bugs é de: 53.5\n"
          ]
        }
      ]
    },
    {
      "cell_type": "code",
      "metadata": {
        "colab": {
          "base_uri": "https://localhost:8080/",
          "height": 296
        },
        "id": "6PCRvytCrHAw",
        "outputId": "da6f0215-0747-4d34-c4da-2710ca1c9204"
      },
      "source": [
        "# Visualizando a distribuição de similaridade\n",
        "\n",
        "sns.histplot(data=compare_df, x='similarity')"
      ],
      "execution_count": 23,
      "outputs": [
        {
          "output_type": "execute_result",
          "data": {
            "text/plain": [
              "<matplotlib.axes._subplots.AxesSubplot at 0x7f353a91ec10>"
            ]
          },
          "metadata": {},
          "execution_count": 23
        },
        {
          "output_type": "display_data",
          "data": {
            "image/png": "[encoded data removed]",
            "text/plain": [
              "<Figure size 432x288 with 1 Axes>"
            ]
          },
          "metadata": {
            "needs_background": "light"
          }
        }
      ]
    }
  ]
}